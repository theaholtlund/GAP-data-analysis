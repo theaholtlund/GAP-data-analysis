{
 "cells": [
  {
   "attachments": {},
   "cell_type": "markdown",
   "metadata": {},
   "source": [
    "### GAP Data Analytics, Data Retrieval\n",
    "\n",
    "This Jupyter Notebook allows for automation in the process of extracting GitHub statistics relevant for the redistribution of the GAP programming language. To extract data from the PyGithub API, it is first necessary to install the PyGitHub library. This library provides a Python wrapper for the GitHub REST API."
   ]
  },
  {
   "cell_type": "code",
   "execution_count": null,
   "metadata": {},
   "outputs": [],
   "source": [
    "# Import sys module for various system-specific parameters and functions\n",
    "# Exclude lines that are already satisfied using the grep search command\n",
    "import sys\n",
    "!{sys.executable} -m pip install numpy pandas matplotlib seaborn PyGithub | grep -v 'already satisfied'\n",
    "\n",
    "# Import required libraries and packages\n",
    "import requests\n",
    "from datetime import datetime\n",
    "from github import Github\n",
    "from bs4 import BeautifulSoup\n",
    "\n",
    "# Import modules from other project scripts\n",
    "from utils import get_github_token"
   ]
  },
  {
   "attachments": {},
   "cell_type": "markdown",
   "metadata": {},
   "source": [
    "### Managing GitHub API Connection\n",
    "\n",
    "Connecting to GitHub and verifying the user GitHub token is done through storing the access token as an environment variable. This way, the access token is not exposed in the script. The function for getting the token is imported from the utils file in the project. The API has a call limit of 5000 calls per hour, which creates the need to track the usage and remaining calls."
   ]
  },
  {
   "cell_type": "code",
   "execution_count": null,
   "metadata": {},
   "outputs": [],
   "source": [
    "# Get the GitHub access token and create instance of the GitHub class\n",
    "github_token = get_github_token()\n",
    "if github_token:\n",
    "    g = Github(github_token)"
   ]
  },
  {
   "cell_type": "code",
   "execution_count": null,
   "metadata": {},
   "outputs": [],
   "source": [
    "# Track the rate limit for GitHub compared to calls used, and see when the limit will reset\n",
    "remaining_requests, request_limit = g.rate_limiting\n",
    "print(f\"Request Limit for API Calls: {request_limit}\")\n",
    "print(f\"Remaining Requests for API Calls: {remaining_requests}\")\n",
    "\n",
    "limit_reset_time = g.rate_limiting_resettime\n",
    "reset_time = datetime.fromtimestamp(limit_reset_time).strftime('%Y-%m-%d %H:%M:%S')\n",
    "print(f\"Reset Time for API Calls: {reset_time}\")"
   ]
  },
  {
   "attachments": {},
   "cell_type": "markdown",
   "metadata": {},
   "source": [
    "### Generating GitHub GAP Statistics\n",
    "\n",
    "Core statistical metrics relevant for the management of GAP from GitHub are provided below. These numbers are helpful in providing some foundational understanding of the current sitation of the programming language, in terms of development, distribution and redistribution."
   ]
  },
  {
   "cell_type": "code",
   "execution_count": null,
   "metadata": {},
   "outputs": [],
   "source": [
    "# Number of GAP packages hosted in the gap-packages organisation on GitHub\n",
    "org_name = \"gap-packages\"\n",
    "org = g.get_organization(org_name)\n",
    "\n",
    "# Get the number of repositories that are public\n",
    "repos = org.get_repos(type=\"public\")\n",
    "total_packages = repos.totalCount\n",
    "print(f\"Number of GAP packages fra GAP Respository: {total_packages}\")"
   ]
  },
  {
   "cell_type": "code",
   "execution_count": null,
   "metadata": {},
   "outputs": [],
   "source": [
    "# Number of GAP packages hosted elsewhere on GitHub\n",
    "# The information is attempted gathered through the web scraping technique provided by Beautiful Soup\n",
    "# NB: These numbers are only indicative and not completely accurate due to the webpage listing style, counts per parent list item\n",
    "url = \"https://gap-packages.github.io/\"\n",
    "response = requests.get(url)\n",
    "\n",
    "# Create a BeautifulSoup object to parse the HTML content\n",
    "soup = BeautifulSoup(response.text, \"html.parser\")\n",
    "\n",
    "# Find the section of the webpage with the packages stored elsewhere on GitHub\n",
    "section = soup.find(\"section\", id=\"main-content\")\n",
    "heading = section.find(id=\"packages-hosted-elsewhere-on-github\")\n",
    "ul = heading.find_next(\"ul\")\n",
    "\n",
    "# Do not include any child elements that are ul or li, as not to let these increase the count\n",
    "packages = ul.find_all(\"li\", recursive=False)\n",
    "count = len(packages)\n",
    "\n",
    "print(f\"Number of GAP packages hosted elsewhere on GitHub: {count}\")"
   ]
  },
  {
   "cell_type": "code",
   "execution_count": null,
   "metadata": {},
   "outputs": [],
   "source": [
    "# Number of releases per repository managed by the gap-packages organisation on GitHub\n",
    "for repo in repos:\n",
    "    total_releases = 0\n",
    "    releases = repo.get_releases()\n",
    "    total_releases += releases.totalCount\n",
    "    print(f\"Total Releases for {repo}: {total_releases}\")\n"
   ]
  },
  {
   "cell_type": "code",
   "execution_count": null,
   "metadata": {},
   "outputs": [],
   "source": [
    "# Age per respository managed by the gap-packages organisation on GitHub\n",
    "for repo in repos:\n",
    "    creation_date = repo.created_at.date()\n",
    "    print(creation_date)\n",
    "    current_date = datetime.now().date()\n",
    "    print(current_date)\n",
    "    age = (current_date - creation_date)\n",
    "    print(f\"Repository: {repo.name}, Age: {age.days} days\")"
   ]
  }
 ],
 "metadata": {
  "kernelspec": {
   "display_name": "Python 3",
   "language": "python",
   "name": "python3"
  },
  "language_info": {
   "codemirror_mode": {
    "name": "ipython",
    "version": 3
   },
   "file_extension": ".py",
   "mimetype": "text/x-python",
   "name": "python",
   "nbconvert_exporter": "python",
   "pygments_lexer": "ipython3",
   "version": "3.11.3"
  },
  "orig_nbformat": 4
 },
 "nbformat": 4,
 "nbformat_minor": 2
}
