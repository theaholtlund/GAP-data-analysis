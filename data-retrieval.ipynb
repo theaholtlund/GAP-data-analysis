{
 "cells": [
  {
   "attachments": {},
   "cell_type": "markdown",
   "metadata": {},
   "source": [
    "### GAP Data Analytics, Data Retrieval\n",
    "\n",
    "This Jupyter Notebook allows for automation in the process of extracting GitHub statistics relevant for the redistribution of the GAP programming language. To extract data from the PyGithub API, it is first necessary to install the PyGitHub library. This library provides a Python wrapper for the GitHub REST API."
   ]
  },
  {
   "cell_type": "code",
   "execution_count": null,
   "metadata": {},
   "outputs": [],
   "source": [
    "# Import sys module for various system-specific parameters and functions\n",
    "# Exclude lines that are already satisfied using the grep search command\n",
    "import sys\n",
    "!{sys.executable} -m pip install numpy pandas matplotlib seaborn PyGithub | grep -v 'already satisfied'\n",
    "\n",
    "# Import required libraries and packages\n",
    "import requests\n",
    "from datetime import datetime\n",
    "from github import Github\n",
    "from bs4 import BeautifulSoup\n",
    "\n",
    "# Import modules from other project scripts\n",
    "from utils import get_github_token"
   ]
  },
  {
   "attachments": {},
   "cell_type": "markdown",
   "metadata": {},
   "source": [
    "### Managing GitHub API Connection\n",
    "\n",
    "Connecting to GitHub and verifying the user GitHub token is done through storing the access token as an environment variable. This way, the access token is not exposed in the script. The function for getting the token is imported from the utils file in the project. The API has a call limit of 5000 calls per hour, which creates the need to track the usage and remaining calls."
   ]
  },
  {
   "cell_type": "code",
   "execution_count": null,
   "metadata": {},
   "outputs": [],
   "source": [
    "# Get the GitHub access token and create instance of the GitHub class\n",
    "github_token = get_github_token()\n",
    "if github_token:\n",
    "    g = Github(github_token)"
   ]
  },
  {
   "cell_type": "code",
   "execution_count": null,
   "metadata": {},
   "outputs": [],
   "source": [
    "# Track the rate limit for GitHub compared to calls used, and see when the limit will reset\n",
    "remaining_requests, request_limit = g.rate_limiting\n",
    "print(f\"Request Limit for API Calls: {request_limit}\")\n",
    "print(f\"Remaining Requests for API Calls: {remaining_requests}\")\n",
    "\n",
    "limit_reset_time = g.rate_limiting_resettime\n",
    "reset_time = datetime.fromtimestamp(limit_reset_time).strftime('%Y-%m-%d %H:%M:%S')\n",
    "print(f\"Reset Time for API Calls: {reset_time}\")"
   ]
  },
  {
   "attachments": {},
   "cell_type": "markdown",
   "metadata": {},
   "source": [
    "### General GAP Package and Distribution Statistics\n",
    "\n",
    "Core statistical metrics based on the general state of packages, relevant for the management of GAP from GitHub, are provided below. These numbers are helpful in providing some foundational understanding of the current sitation of the programming language, in terms of development, distribution and redistribution."
   ]
  },
  {
   "cell_type": "code",
   "execution_count": null,
   "metadata": {},
   "outputs": [],
   "source": [
    "# Number of GAP packages hosted in the gap-packages organisation on GitHub\n",
    "org_name = \"gap-packages\"\n",
    "org = g.get_organization(org_name)\n",
    "\n",
    "# Get the number of repositories that are public\n",
    "repos = org.get_repos(type=\"public\")\n",
    "total_packages = repos.totalCount\n",
    "print(f\"Number of GAP packages fra GAP Respository: {total_packages}\")"
   ]
  },
  {
   "cell_type": "code",
   "execution_count": null,
   "metadata": {},
   "outputs": [],
   "source": [
    "# Number of GAP packages hosted elsewhere on GitHub\n",
    "# The information is attempted gathered through the web scraping technique provided by Beautiful Soup\n",
    "# NB: These numbers are only indicative and not completely accurate due to the webpage listing style, counts per parent list item\n",
    "url = \"https://gap-packages.github.io/\"\n",
    "response = requests.get(url)\n",
    "\n",
    "# Create a BeautifulSoup object to parse the HTML content\n",
    "soup = BeautifulSoup(response.text, \"html.parser\")\n",
    "\n",
    "# Find the section of the webpage with the packages stored elsewhere on GitHub\n",
    "section = soup.find(\"section\", id=\"main-content\")\n",
    "heading = section.find(id=\"packages-hosted-elsewhere-on-github\")\n",
    "ul = heading.find_next(\"ul\")\n",
    "\n",
    "# Do not include any child elements that are ul or li, as not to let these increase the count\n",
    "packages = ul.find_all(\"li\", recursive=False)\n",
    "count = len(packages)\n",
    "\n",
    "print(f\"Number of GAP entities or packages hosted elsewhere on GitHub: {count}\")"
   ]
  },
  {
   "attachments": {},
   "cell_type": "markdown",
   "metadata": {},
   "source": [
    "### Individual Statistics per GitHub GAP Package\n",
    "\n",
    "Individual statistical metrics given per GAP repository managed by the gap-packages organisation on GitHub, are provided below. These numbers are helpful in providing some insight to aid decision-making when deciding how to address the respective packages, in terms of their status on need as well as readiness for redistribution."
   ]
  },
  {
   "cell_type": "code",
   "execution_count": null,
   "metadata": {},
   "outputs": [],
   "source": [
    "# Function to get the number of releases for a repository\n",
    "# Also provide the latest release date, to indicate whether a package was released relatively recently\n",
    "def get_total_releases(repo):\n",
    "    releases = repo.get_releases()\n",
    "    total_releases = releases.totalCount\n",
    "\n",
    "    if total_releases > 0:\n",
    "        latest_release = releases[0]\n",
    "        latest_release_date = latest_release.published_at.date()\n",
    "        return repo.name, total_releases, latest_release_date\n",
    "    else:\n",
    "        return repo.name, total_releases, None"
   ]
  },
  {
   "cell_type": "code",
   "execution_count": null,
   "metadata": {},
   "outputs": [],
   "source": [
    "# Function to get the age for a respository, measured in days\n",
    "def get_repository_age(repo):\n",
    "    age = (datetime.now().date() - repo.created_at.date())\n",
    "    return repo.name, age.days"
   ]
  },
  {
   "cell_type": "code",
   "execution_count": null,
   "metadata": {},
   "outputs": [],
   "source": [
    "# Function to get the last activity event for a repository\n",
    "# Watch event is excluded, as not to hide other events that would be of greater significance\n",
    "# NB: Only events within the past 90 days are included in the search, per API limitations\n",
    "def get_last_event(repo):\n",
    "    # Define dictionary for events to be considered\n",
    "    EVENT_TYPES = {\n",
    "    \"CommitCommentEvent\": \"Comment was made on a commit\",\n",
    "    \"CreateEvent\": \"New branch or tag in repository\",\n",
    "    \"DeleteEvent\": \"Branch or tag was deleted from the repository\",\n",
    "    \"ForkEvent\": \"Repository was forked\",\n",
    "    \"IssueEvent\": \"An issue was opened, closed or edited\",\n",
    "    \"IssueCommentEvent\": \"Comment made on an issue\",\n",
    "    \"PullRequestEvent\": \"Pull request was opened, closed, merged or synchronised\",\n",
    "    \"PullRequestReviewEvent\": \"Pull request review was submitted\",\n",
    "    \"PullRequestReviewCommentEvent\": \"Comment was made on a pull request review\",\n",
    "    \"PushEvent\": \"Push to the repository\",\n",
    "    \"ReleaseEvent\": \"Release was published for the repository\",\n",
    "    }\n",
    "\n",
    "    events = repo.get_events()\n",
    "    if events.totalCount > 0:\n",
    "        last_event = events[0]\n",
    "        last_event_type = EVENT_TYPES.get(last_event.type)\n",
    "        last_event_time = last_event.created_at.date()\n",
    "        return repo.name, last_event_time, last_event_type\n",
    "    else:\n",
    "        return repo.name, None, None"
   ]
  },
  {
   "cell_type": "code",
   "execution_count": null,
   "metadata": {},
   "outputs": [],
   "source": [
    "# Define function to print repository dictionary\n",
    "def print_repo_info(repo_info):\n",
    "    print(f\"Repository: {repo_info['name']}\")\n",
    "    print(f\"Total Releases: {repo_info['total_releases']}\")\n",
    "    if repo_info['latest_release_date']:\n",
    "        print(f\"Latest Release Date: {repo_info['latest_release_date']}\")\n",
    "    print(f\"Age: {repo_info['age']} days\")\n",
    "    if repo_info['last_event_time']:\n",
    "        print(f\"Last Activity Time: {repo_info['last_event_time']}\")\n",
    "        print(f\"Last Activity Type: {repo_info['last_event_type']}\")\n",
    "    else:\n",
    "        print(f\"No activity within the past 90 days\")"
   ]
  },
  {
   "cell_type": "code",
   "execution_count": null,
   "metadata": {},
   "outputs": [],
   "source": [
    "# Generate relevant statistics for all repositories managed by the gap-packages organisation on GitHub\n",
    "for repo in repos:\n",
    "    # Call function for total releases for the repository\n",
    "    repo_name, total_releases, latest_release_date = get_total_releases(repo)\n",
    "    if total_releases > 0:\n",
    "        print(f\"Total Releases for {repo_name}: {total_releases}\")\n",
    "        print(f\"Latest Release Date: {latest_release_date}\")\n",
    "    else:\n",
    "        print(f\"No releases for {repo_name}\")\n",
    "    \n",
    "    # Call function for total releases\n",
    "    repo_name, repo_age = get_repository_age(repo)\n",
    "    print(f\"Repository: {repo_name}, Age: {repo_age} days\")\n",
    "\n",
    "    # Call function for last event type for the repository\n",
    "    repo_name, last_event_time, last_event_type = get_last_event(repo)\n",
    "    if last_event_time is not None:\n",
    "        print(f\"Last Activity Time for {repo_name}: {last_event_time}\")\n",
    "        print(f\"Last Activity Type for {repo_name}: {last_event_type}\")\n",
    "    else:\n",
    "        print(f\"No activity in {repo_name} within the past 90 days\")"
   ]
  }
 ],
 "metadata": {
  "kernelspec": {
   "display_name": "Python 3",
   "language": "python",
   "name": "python3"
  },
  "language_info": {
   "codemirror_mode": {
    "name": "ipython",
    "version": 3
   },
   "file_extension": ".py",
   "mimetype": "text/x-python",
   "name": "python",
   "nbconvert_exporter": "python",
   "pygments_lexer": "ipython3",
   "version": "3.11.3"
  },
  "orig_nbformat": 4
 },
 "nbformat": 4,
 "nbformat_minor": 2
}
