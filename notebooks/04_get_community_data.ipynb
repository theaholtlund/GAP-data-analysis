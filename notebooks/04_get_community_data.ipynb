{
 "cells": [
  {
   "attachments": {},
   "cell_type": "markdown",
   "metadata": {},
   "source": [
    "## GAP Data Analytics, Community Study\n",
    "\n",
    "This Jupyter Notebook is intended to provide a deeper understanding of the community behind GAP distributed through GitHub, by studying the members developing, releasing and collaborating on GAP packages on GitHub, to gather valuable information on their collaboration trends and patterns. In the interest of privacy, the real values of contributor usernames are hashed upon extraction. The hash value is then the variable used to compute and generate statistical data analysis."
   ]
  },
  {
   "cell_type": "code",
   "execution_count": null,
   "metadata": {},
   "outputs": [],
   "source": [
    "# Import required modules and libraries\n",
    "import os\n",
    "import sys\n",
    "import json\n",
    "import hashlib\n",
    "from github import Repository\n",
    "\n",
    "# Get current working directory and append parent directory for module imports\n",
    "cwd = os.getcwd()\n",
    "parent_dir = os.path.dirname(cwd)\n",
    "sys.path.append(parent_dir)\n",
    "\n",
    "# Import modules from other project scripts\n",
    "from data_constants import *\n"
   ]
  },
  {
   "attachments": {},
   "cell_type": "markdown",
   "metadata": {},
   "source": [
    "### Studying the community\n",
    "\n",
    "Several variables related to autors and collaborations can provide valuable input on how the community behind GAP functions, and what dependencies might exist. Further investigating the frequency of contributions, who contributes to what and where connections are made yields an understanding of who the people behind the GAP packages are, how the collaborate and what the trends point to."
   ]
  },
  {
   "cell_type": "code",
   "execution_count": null,
   "metadata": {},
   "outputs": [],
   "source": [
    "# Define global variables for the Jupyter Notebook\n",
    "org = g.get_organization(ORG_NAME_PACKAGES)\n",
    "repos = org.get_repos(type=\"public\")\n"
   ]
  },
  {
   "cell_type": "markdown",
   "metadata": {},
   "source": [
    "##### Functions to Retrieve Community Metrics"
   ]
  },
  {
   "cell_type": "code",
   "execution_count": null,
   "metadata": {},
   "outputs": [],
   "source": [
    "def hash_username(author_name: str) -> str:\n",
    "    \"\"\"Hashes the author name upon retrieval, using the SHA-256 algorithm.\n",
    "\n",
    "    Args:\n",
    "        author_name (str): The author name to be hashed.\n",
    "\n",
    "    Returns:\n",
    "        str: The hash value of the author name.\n",
    "    \"\"\"\n",
    "    return hashlib.sha256(author_name.encode()).hexdigest()\n"
   ]
  },
  {
   "cell_type": "code",
   "execution_count": null,
   "metadata": {},
   "outputs": [],
   "source": [
    "def community_contributors(repos: Repository) -> tuple:\n",
    "    \"\"\"Get the numbers of GitHub GAP repository authors, authors who are also submitters, number of repos each author contributed to,\n",
    "    authors who are also submitters and data on what authors interacted with what issue submitters.\n",
    "\n",
    "    Args:\n",
    "        repos (Repository): List of GitHub repositories.\n",
    "\n",
    "    Returns:\n",
    "        tuple: A set of hash values for all users that are authors,\n",
    "            a dict with showing how many repositories an author contributed to\n",
    "            a set of hash values for users who are authors and submitters,\n",
    "            and a dict containing authors and what issue submitters interacted with their repos.\n",
    "    \"\"\"\n",
    "    all_authors = set()\n",
    "    all_submitters = set()\n",
    "    authors_submitters = set()\n",
    "    author_repo_counts = {}\n",
    "    authors_contributed_together = {}\n",
    "\n",
    "    for repo in repos:\n",
    "        contributors = repo.get_contributors()\n",
    "        for contributor in contributors:\n",
    "            contributor_hash = hash_username(contributor.login)\n",
    "            if contributor not in all_authors:\n",
    "                all_authors.add(contributor_hash)\n",
    "            author_repo_counts[contributor_hash] = author_repo_counts.get(contributor_hash, 0) + 1\n",
    "        \n",
    "        # Keep track of submitters so that each submitter is only counted once per repo\n",
    "        issues = repo.get_issues(state=\"all\")        \n",
    "        submitters_in_repo = set()\n",
    "\n",
    "        for issue in issues:\n",
    "            submitter = hash_username(issue.user.login)\n",
    "            if submitter not in all_submitters: \n",
    "                all_submitters.add(submitter)\n",
    "            submitters_in_repo.add(submitter)\n",
    "\n",
    "        for submitter in submitters_in_repo:\n",
    "            for contributor in contributors:\n",
    "                contributor = hash_username(contributor.login)\n",
    "                if submitter != contributor:\n",
    "                    if contributor not in authors_contributed_together:\n",
    "                        authors_contributed_together[contributor] = []\n",
    "                    if submitter not in authors_contributed_together[contributor]:\n",
    "                        authors_contributed_together[contributor].append(submitter)\n",
    "\n",
    "    authors_submitters = all_submitters.intersection(all_authors)\n",
    "\n",
    "    return all_authors, all_submitters, author_repo_counts, authors_submitters, authors_contributed_together\n"
   ]
  },
  {
   "cell_type": "markdown",
   "metadata": {},
   "source": [
    "##### Get and Display Community Metrics"
   ]
  },
  {
   "cell_type": "code",
   "execution_count": null,
   "metadata": {},
   "outputs": [],
   "source": [
    "# Unpack the tuple to access the variables\n",
    "all_authors, all_submitters, author_repo_counts, author_submitters, authors_contributed_together = community_contributors(repos)\n",
    "print(f\"Total number of authors for all GAP packages: {len(all_authors)}\")\n",
    "print(f\"Total number of submitters for all GAP packages: {len(all_submitters)}\")\n",
    "print(f\"Total number of authors who were also submitters for all GAP packages: {len(author_submitters)}\")\n",
    "\n",
    "# Get information on how many repositories an author contributed to\n",
    "sorted_contributors = sorted(author_repo_counts.items(), key=lambda x: x[1], reverse=True)\n",
    "for value, count in sorted_contributors:\n",
    "    print(f\"Author Hash Value: {value}\\tRepo Contribution Count: {count}\")\n"
   ]
  },
  {
   "cell_type": "code",
   "execution_count": null,
   "metadata": {},
   "outputs": [],
   "source": [
    "# Export collected data to JSON file to store them for later use and better overview\n",
    "data_folder = \"collected_data\"\n",
    "data = {\n",
    "    'authors': list(all_authors),\n",
    "    'submitters': list(all_submitters),\n",
    "    'author_repo_counts': author_repo_counts,\n",
    "    'author_submitters': list(author_submitters),\n",
    "    'interactions': authors_contributed_together\n",
    "}\n",
    "\n",
    "# Create a file path for the JSON file, and add it to the data folder\n",
    "file_path = os.path.join(data_folder, \"community_data.json\")\n",
    "\n",
    "# Write the data to the JSON file\n",
    "with open(file_path, \"w\", encoding=\"utf-8\") as f:\n",
    "    json.dump(data, f, ensure_ascii=False, indent=4)\n",
    "\n",
    "print(\"Community data has been exported to the 'community_data.json' file in the 'collected_data' folder.\")\n"
   ]
  }
 ],
 "metadata": {
  "kernelspec": {
   "display_name": "Python 3",
   "language": "python",
   "name": "python3"
  },
  "language_info": {
   "codemirror_mode": {
    "name": "ipython",
    "version": 3
   },
   "file_extension": ".py",
   "mimetype": "text/x-python",
   "name": "python",
   "nbconvert_exporter": "python",
   "pygments_lexer": "ipython3",
   "version": "3.11.3"
  },
  "orig_nbformat": 4
 },
 "nbformat": 4,
 "nbformat_minor": 2
}
