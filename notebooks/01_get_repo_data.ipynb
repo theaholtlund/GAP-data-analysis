{
 "cells": [
  {
   "attachments": {},
   "cell_type": "markdown",
   "metadata": {},
   "source": [
    "## GAP Data Analytics, Basic Repo Data Retrieval\n",
    "\n",
    "This Jupyter Notebook intends to automate the process of extracting fundamental, introductory data on GAP repositories hosted on GitHub, relevant to the redistribution of the programming language. To extract data from the PyGithub API, the user must first install the PyGitHub library, which is the Python wrapper for the GitHub API. Installation of the packages required for using this framework is initiated throught the pip shell command below."
   ]
  },
  {
   "cell_type": "code",
   "execution_count": null,
   "metadata": {},
   "outputs": [],
   "source": [
    "# Import sys module for various system-specific parameters and functions\n",
    "# Exclude lines that are already satisfied using the grep search command\n",
    "import sys\n",
    "!{sys.executable} -m pip install PyGithub numpy pandas matplotlib seaborn | grep -v 'already satisfied'\n",
    "\n",
    "# Import required modules and libraries\n",
    "import os\n",
    "import json\n",
    "import pandas as pd\n",
    "import requests\n",
    "from datetime import datetime\n",
    "from bs4 import BeautifulSoup\n",
    "from ydata_profiling import ProfileReport\n",
    "from github import Repository\n",
    "\n",
    "# Get current working directory and append parent directory for module imports\n",
    "cwd = os.getcwd()\n",
    "parent_dir = os.path.dirname(cwd)\n",
    "sys.path.append(parent_dir)\n",
    "\n",
    "# Import modules from other project scripts\n",
    "from data_constants import *\n"
   ]
  },
  {
   "attachments": {},
   "cell_type": "markdown",
   "metadata": {},
   "source": [
    "### Managing GitHub API Calls\n",
    "\n",
    "The process of connecting to GitHub and verifying the user's GitHub token is done by storing the access token as an environment variable. The This way, the access token is not exposed in the script. The function for getting the token is imported from the utils file in the project. As the API has a call limit of 5000 calls per hour, the capacity and remaining calls available,a s well as the reset time, is tracked below."
   ]
  },
  {
   "cell_type": "code",
   "execution_count": null,
   "metadata": {},
   "outputs": [],
   "source": [
    "# Track the rate limit for GitHub compared to calls used, and see when the limit will reset\n",
    "remaining_requests, request_limit = g.rate_limiting\n",
    "print(f\"Request limit for API Calls: {request_limit}\")\n",
    "print(f\"Remaining requests for API Calls: {remaining_requests}\")\n",
    "\n",
    "limit_reset_time = g.rate_limiting_resettime\n",
    "reset_time = datetime.fromtimestamp(limit_reset_time).strftime('%Y-%m-%d %H:%M:%S')\n",
    "print(f\"Reset time for API Calls: {reset_time}\")\n"
   ]
  },
  {
   "attachments": {},
   "cell_type": "markdown",
   "metadata": {},
   "source": [
    "### General Statistics on GAP Packages and Distribution\n",
    "\n",
    "Core metrics based on the general state of packages, relevant to the management of GAP from GitHub, are provided below. These numbers are helpful in providing some foundational understanding of the current state of the programming language packages, in terms of development, distribution and redistribution. This data is on a collective level, and not per individual package."
   ]
  },
  {
   "cell_type": "code",
   "execution_count": null,
   "metadata": {},
   "outputs": [],
   "source": [
    "# Define global variables for the Jupyter Notebook\n",
    "# Get the number of repositories that are public for gap-packages organisation on GitHub\n",
    "org = g.get_organization(ORG_NAME_PACKAGES)\n",
    "repos = org.get_repos(type=\"public\")\n",
    "total_packages = repos.totalCount\n",
    "print(f\"Number of GAP packages fra GAP Respository: {total_packages}\")\n"
   ]
  },
  {
   "cell_type": "code",
   "execution_count": null,
   "metadata": {},
   "outputs": [],
   "source": [
    "# Number of GAP packages hosted elsewhere on GitHub\n",
    "# The information is attempted gathered through the web scraping technique provided by Beautiful Soup\n",
    "# NB: These numbers are only indicative and not completely accurate due to the webpage listing style, counts per parent list item\n",
    "url = \"https://gap-packages.github.io/\"\n",
    "response = requests.get(url)\n",
    "\n",
    "# Create a BeautifulSoup object to parse the HTML content\n",
    "soup = BeautifulSoup(response.text, \"html.parser\")\n",
    "\n",
    "# Find the section of the webpage with the packages stored elsewhere on GitHub\n",
    "section = soup.find(\"section\", id=\"main-content\")\n",
    "heading = section.find(id=\"packages-hosted-elsewhere-on-github\")\n",
    "ul = heading.find_next(\"ul\")\n",
    "\n",
    "# Do not include any child elements that are ul or li, as not to let these increase the count\n",
    "packages = ul.find_all(\"li\", recursive=False)\n",
    "count = len(packages)\n",
    "\n",
    "print(f\"Number of GAP entities or packages hosted elsewhere on GitHub: {count}\")\n"
   ]
  },
  {
   "attachments": {},
   "cell_type": "markdown",
   "metadata": {},
   "source": [
    "### Individual Statistics per GitHub GAP Package\n",
    "\n",
    "Individual statistical metrics given per GAP repository managed by the gap-packages organisation on GitHub, are provided below. The process is divided into two parts, by first defining functions to get the data, and then retrieving it for each repository. Running the script will export the data to a 'repo_data.json' file in the 'collected_data' folder, displaying the results of the generated data per package."
   ]
  },
  {
   "attachments": {},
   "cell_type": "markdown",
   "metadata": {},
   "source": [
    "##### Functions to Retrieve Individual Repo Statistics"
   ]
  },
  {
   "cell_type": "code",
   "execution_count": null,
   "metadata": {},
   "outputs": [],
   "source": [
    "def get_total_releases(repo: Repository) -> tuple:\n",
    "    \"\"\"Get total number of releases and the latest release for a given repository.\n",
    "    \n",
    "    Args:\n",
    "        repo (Repository): The GitHub repository.\n",
    "    \n",
    "    Returns:\n",
    "        tuple: The repository name, total releases count and latest release date.\n",
    "    \"\"\"\n",
    "    releases = repo.get_releases()\n",
    "    total_releases = releases.totalCount\n",
    "\n",
    "    if total_releases > 0:\n",
    "        latest_release = releases[0]\n",
    "        latest_release_date = latest_release.published_at.date()\n",
    "        return repo.name, total_releases, latest_release_date\n",
    "    else:\n",
    "        return repo.name, total_releases, None\n",
    "    "
   ]
  },
  {
   "cell_type": "code",
   "execution_count": null,
   "metadata": {},
   "outputs": [],
   "source": [
    "def get_repository_age(repo: Repository) -> tuple:\n",
    "    \"\"\"Get the age for a respository, measured in days.\n",
    "    \n",
    "    Args:\n",
    "        repo (Repository): The GitHub repository.\n",
    "    \n",
    "    Returns:\n",
    "        tuple: The repository name and the age of the repository measured in days.\n",
    "    \"\"\"\n",
    "    age = (datetime.now().date() - repo.created_at.date())\n",
    "    return repo.name, age.days\n"
   ]
  },
  {
   "cell_type": "code",
   "execution_count": null,
   "metadata": {},
   "outputs": [],
   "source": [
    "def get_last_event(repo: Repository) -> tuple:\n",
    "    \"\"\"Get the last activity event for a repository.\n",
    "\n",
    "    Args:\n",
    "        repo (Repository): The GitHub repository.\n",
    "\n",
    "    Returns:\n",
    "        tuple: The repository name, last event time as a date object (or None), and last event type (or None).\n",
    "    \n",
    "    Note:\n",
    "        - Watch event is excluded from EVENT_TYPES, as not to hide other events that would be of greater significance.\n",
    "        - Only events within the past 90 days are included in the search, per API limitations.\n",
    "    \"\"\"\n",
    "    EVENT_TYPES = {\n",
    "    \"CommitCommentEvent\": \"Comment was made on a commit\",\n",
    "    \"CreateEvent\": \"New branch or tag in repository\",\n",
    "    \"DeleteEvent\": \"Branch or tag was deleted from the repository\",\n",
    "    \"ForkEvent\": \"Repository was forked\",\n",
    "    \"IssueEvent\": \"An issue was opened, closed or edited\",\n",
    "    \"IssueCommentEvent\": \"Comment made on an issue\",\n",
    "    \"PullRequestEvent\": \"Pull request was opened, closed, merged or synchronised\",\n",
    "    \"PullRequestReviewEvent\": \"Pull request review was submitted\",\n",
    "    \"PullRequestReviewCommentEvent\": \"Comment was made on a pull request review\",\n",
    "    \"PushEvent\": \"Push to the repository\",\n",
    "    \"ReleaseEvent\": \"Release was published for the repository\",\n",
    "    }\n",
    "    \n",
    "    events = repo.get_events()\n",
    "    if events.totalCount > 0:\n",
    "        last_event = events[0]\n",
    "        last_event_type = EVENT_TYPES.get(last_event.type)\n",
    "        last_event_time = last_event.created_at.date()\n",
    "        return repo.name, last_event_time, last_event_type\n",
    "    else:\n",
    "        return repo.name, None, None\n",
    "    "
   ]
  },
  {
   "cell_type": "code",
   "execution_count": null,
   "metadata": {},
   "outputs": [],
   "source": [
    "def check_release_status(repo: Repository) -> tuple:\n",
    "    \"\"\"Get information on bugs and enhancement opportunities for a repository.\n",
    "\n",
    "    Args:\n",
    "        repo (Repository): The GitHub repository.\n",
    "    \n",
    "    Returns:\n",
    "        tuple: The repository name, total number of open issues, number of bug issues (or None) and\n",
    "        and number of enhancement issues (or None).\n",
    "    \"\"\"\n",
    "    open_issues = repo.get_issues(state='open')\n",
    "    \n",
    "    open_issues_count = open_issues.totalCount\n",
    "    bug_count = 0\n",
    "    enhancement_count = 0\n",
    "\n",
    "    for issue in open_issues:\n",
    "        labels = [label.name for label in issue.labels]\n",
    "        if 'bug' in labels:\n",
    "            bug_count += 1\n",
    "        if 'enhancement' in labels:\n",
    "            enhancement_count += 1\n",
    "\n",
    "    if bug_count > 0 or enhancement_count > 0:\n",
    "        return repo.name, open_issues_count, bug_count, enhancement_count\n",
    "    else:\n",
    "        return repo.name, open_issues_count, 0, 0\n",
    "    "
   ]
  },
  {
   "cell_type": "code",
   "execution_count": null,
   "metadata": {},
   "outputs": [],
   "source": [
    "def pull_request_status(repo: Repository) -> tuple:\n",
    "    \"\"\" Get information on PRs for a repository. \n",
    "    \n",
    "    Args:\n",
    "        repo (Repository): The GitHub repository.\n",
    "    \n",
    "    Returns:\n",
    "        tuple: The repository name, number of PRs, numbers of open PRs and number of closed PRs.\n",
    "    \"\"\"\n",
    "    pull_requests = repo.get_pulls(state='all')\n",
    "    \n",
    "    total_pull_requests = pull_requests.totalCount\n",
    "    open_pull_requests = repo.get_pulls(state='open').totalCount\n",
    "    closed_pull_requests = repo.get_pulls(state='closed').totalCount\n",
    "\n",
    "    return repo.name, total_pull_requests, open_pull_requests, closed_pull_requests\n"
   ]
  },
  {
   "attachments": {},
   "cell_type": "markdown",
   "metadata": {},
   "source": [
    "##### Get and Display Individual Repo Statistics"
   ]
  },
  {
   "cell_type": "code",
   "execution_count": null,
   "metadata": {},
   "outputs": [],
   "source": [
    "# Display alternative 1: Printing out the information\n",
    "# Generate relevant statistics for all repositories managed by the gap-packages organisation on GitHub\n",
    "# for repo in repos:\n",
    "#     # Call function for total releases for the repository\n",
    "#     repo_name, total_releases, latest_release_date = get_total_releases(repo)\n",
    "#     if total_releases > 0:\n",
    "#         print(f\"Total Releases for {repo_name}: {total_releases}\")\n",
    "#         print(f\"Latest Release Date: {latest_release_date}\")\n",
    "#     else:\n",
    "#         print(f\"No releases for {repo_name}\")\n",
    "    \n",
    "#     # Call function for total releases\n",
    "#     repo_name, repo_age = get_repository_age(repo)\n",
    "#     print(f\"Repository: {repo_name}, Age: {repo_age} days\")\n",
    "\n",
    "#     # Call function for last event type for the repository\n",
    "#     repo_name, last_event_time, last_event_type = get_last_event(repo)\n",
    "#     if last_event_time is not None:\n",
    "#         print(f\"Last Activity Time for {repo_name}: {last_event_time}\")\n",
    "#         print(f\"Last Activity Type for {repo_name}: {last_event_type}\")\n",
    "#     else:\n",
    "#         print(f\"No activity in {repo_name} within the past 90 days\")\n",
    "\n",
    "#    # Call function for total issues information\n",
    "#     repo_name, open_issues_count, bug_count, enhancement_count = check_release_status(repo)\n",
    "#     if bug_count > 0 or enhancement_count > 0:\n",
    "#             print(f\"The repository {repo_name} has open bug and enhancement issues.\")\n",
    "#             print(f\"Total open issues: {open_issues_count}\")\n",
    "#             print(f\"Open bug issues: {bug_count}\")\n",
    "#             print(f\"Open enhancement issues: {enhancement_count}\")\n",
    "#     else:\n",
    "#             print(f\"The repository {repo_name} has no open bug or enhancement issues.\")\n",
    "#             print(f\"Total open issues for {repo_name}: {open_issues_count}\")\n",
    "    \n",
    "#     # Call function for total PRs information\n",
    "#     repo_name, total_pull_requests, open_pull_requests, closed_pull_requests = pull_request_status(repo)\n",
    "#     print(f\"Total Pull Requests for {repo_name}: {total_pull_requests}\")\n",
    "#     print(f\"Open Pull Requests for {repo_name}: {open_pull_requests}\")\n",
    "#     print(f\"Closed Pull Requests for {repo_name}: {closed_pull_requests}\")\n"
   ]
  },
  {
   "cell_type": "code",
   "execution_count": null,
   "metadata": {},
   "outputs": [],
   "source": [
    "# Display alternative 2: Creating a ProfileReport for more statistical analysis\n",
    "# Use profiling library to see other, generalised statistics\n",
    "# profile = ProfileReport(df, title=\"Statistics for packages by gap-packages on GitHub\")\n",
    "# profile.to_widgets()\n"
   ]
  },
  {
   "cell_type": "code",
   "execution_count": null,
   "metadata": {},
   "outputs": [],
   "source": [
    "# Export collected data to JSON file to store them for later use and better overview\n",
    "data_folder = 'collected_data'\n",
    "all_data = []\n",
    "\n",
    "# Iterate over the information for each repository\n",
    "for repo in repos:\n",
    "    repo_name = repo.name\n",
    "    _, total_releases, latest_release_date = get_total_releases(repo)\n",
    "    _, repo_age = get_repository_age(repo)\n",
    "    _, last_event_time, last_event_type = get_last_event(repo)\n",
    "    _, open_issues_count, bug_count, enhancement_count = check_release_status(repo)\n",
    "    _, total_pull_requests, open_pull_requests, closed_pull_requests = pull_request_status(repo)\n",
    "\n",
    "# Create a dictionary for the data, converting dates to strings in order to store them\n",
    "    data = {\n",
    "        'repo': repo_name,\n",
    "        'total_releases': total_releases,\n",
    "        'latest_release': str(latest_release_date),\n",
    "        'age_in_days': repo_age,\n",
    "        'last_activity_time': str(last_event_time),\n",
    "        'last_event_type': last_event_type,\n",
    "        'open_issues_count': open_issues_count,\n",
    "        'bug_count': bug_count,\n",
    "        'enhancement_count': enhancement_count,\n",
    "        'total_pull_requests': total_pull_requests,\n",
    "        'open_pull_requests': open_pull_requests,\n",
    "        'closed_pull_requests': closed_pull_requests\n",
    "    }\n",
    "\n",
    "    all_data.append(data)\n",
    "\n",
    "# Create a file path for the JSON file, and add it to the data folder\n",
    "file_path = os.path.join(data_folder, 'repo_data.json')\n",
    "\n",
    "with open(file_path, 'w', encoding='utf-8') as f:\n",
    "    json.dump(all_data, f, ensure_ascii=False, indent=4)\n",
    "\n",
    "print(\"Repository data has been exported to the 'repo_data' file in the 'collected_data' folder.\")\n"
   ]
  }
 ],
 "metadata": {
  "kernelspec": {
   "display_name": "Python 3",
   "language": "python",
   "name": "python3"
  },
  "language_info": {
   "codemirror_mode": {
    "name": "ipython",
    "version": 3
   },
   "file_extension": ".py",
   "mimetype": "text/x-python",
   "name": "python",
   "nbconvert_exporter": "python",
   "pygments_lexer": "ipython3",
   "version": "3.11.3"
  },
  "orig_nbformat": 4
 },
 "nbformat": 4,
 "nbformat_minor": 2
}
