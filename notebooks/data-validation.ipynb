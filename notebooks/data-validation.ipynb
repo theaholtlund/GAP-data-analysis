{
 "cells": [
  {
   "cell_type": "markdown",
   "metadata": {},
   "source": [
    "## GAP Data Analytics, Package Actions\n",
    "\n",
    "This Jupyter Notebook is for validating, examining and analysing data generated so far in the notebooks."
   ]
  },
  {
   "cell_type": "code",
   "execution_count": null,
   "metadata": {},
   "outputs": [],
   "source": [
    "# Import required libraries and packages\n",
    "import os\n",
    "import sys\n",
    "import json\n",
    "from packaging import version\n",
    "\n",
    "# Get current working directory and append parent directory for module imports\n",
    "cwd = os.getcwd()\n",
    "parent_dir = os.path.dirname(cwd)\n",
    "sys.path.append(parent_dir)\n",
    "\n",
    "# Import modules from other project scripts\n",
    "from data_constants import *"
   ]
  },
  {
   "cell_type": "code",
   "execution_count": null,
   "metadata": {},
   "outputs": [],
   "source": [
    "# Load data from testin_data.json file\n",
    "with open('collected_data/testing_data.json', 'r') as file:\n",
    "    data = json.load(file)\n",
    "\n",
    "# Initialize lists for storing package names\n",
    "ci_only_packages = []\n",
    "package_info_only_packages = []\n",
    "both_versions_packages = []\n",
    "\n",
    "# Iterate over each package in the data\n",
    "for package, versions in data.items():\n",
    "    ci_versions = versions.get('ci_file_version', [])\n",
    "    package_info_versions = versions.get('pkginfo_version', [])\n",
    "    \n",
    "    # Check if CI version test exists but PackageInfo.g version test does not\n",
    "    if ci_versions and not package_info_versions:\n",
    "        ci_only_packages.append(package)\n",
    "    \n",
    "    # Check if PackageInfo.g version test exists but CI version test does not\n",
    "    elif package_info_versions and not ci_versions:\n",
    "        package_info_only_packages.append(package)\n",
    "    \n",
    "    # Check if both CI version test and PackageInfo.g version test exists\n",
    "    elif ci_versions and package_info_versions:\n",
    "        both_versions_packages.append(package)\n",
    "\n",
    "# Print the results\n",
    "print(\"Packages with CI_Version but not PackageInfo_Version:\")\n",
    "print(ci_only_packages)\n",
    "print(\"Number of Packages with CI_Version but not PackageInfo_Version:\", len(ci_only_packages))\n",
    "\n",
    "print(\"\\nPackages with PackageInfo_Version but not CI_Version:\")\n",
    "print(package_info_only_packages)\n",
    "print(\"Number of Packages with PackageInfo_Version but not CI_Version:\", len(package_info_only_packages))\n",
    "\n",
    "print(\"\\nPackages with both CI_Version and PackageInfo_Version:\")\n",
    "print(both_versions_packages)\n",
    "print(\"Number of Packages with both CI_Version and PackageInfo_Version:\", len(both_versions_packages))\n"
   ]
  },
  {
   "cell_type": "code",
   "execution_count": null,
   "metadata": {},
   "outputs": [],
   "source": [
    "# Check if all CI.yml versions are equal to or greater than the number listed in the PackageInfo.g file\n",
    "for package, versions in data.items():\n",
    "    ci_versions = versions.get(\"ci_file_version\", [])\n",
    "    package_version = versions.get(\"pkginfo_version\")\n",
    "\n",
    "    if ci_versions and package_version:\n",
    "        if not all(version.parse(ci) >= version.parse(package_version[0]) for ci in ci_versions):\n",
    "            print(f\"CI versions are not all greater than or equal to PackageInfo version for package {package}\")\n"
   ]
  }
 ],
 "metadata": {
  "kernelspec": {
   "display_name": "Python 3",
   "language": "python",
   "name": "python3"
  },
  "language_info": {
   "codemirror_mode": {
    "name": "ipython",
    "version": 3
   },
   "file_extension": ".py",
   "mimetype": "text/x-python",
   "name": "python",
   "nbconvert_exporter": "python",
   "pygments_lexer": "ipython3",
   "version": "3.11.3"
  },
  "orig_nbformat": 4
 },
 "nbformat": 4,
 "nbformat_minor": 2
}
