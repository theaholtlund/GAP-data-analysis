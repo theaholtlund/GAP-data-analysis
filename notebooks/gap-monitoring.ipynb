{
 "cells": [
  {
   "attachments": {},
   "cell_type": "markdown",
   "metadata": {},
   "source": [
    "## GAP Data Analytics, Data Retrieval\n",
    "\n",
    "This Jupyter Notebook can be used to monitor various metrics for the GAP packages available on GitHub, as to ease and automate the process of supervising the packages and their development. The analytical framework is particularly intended to be useful in oversight for the purpose of redistribution.  "
   ]
  },
  {
   "cell_type": "code",
   "execution_count": 3,
   "metadata": {},
   "outputs": [],
   "source": [
    "# Import required libraries and packages\n",
    "import os\n",
    "import sys\n",
    "import pandas as pd\n",
    "\n",
    "# Get current working directory and append parent directory for module imports\n",
    "cwd = os.getcwd()\n",
    "parent_dir = os.path.dirname(cwd)\n",
    "sys.path.append(parent_dir)\n",
    "\n",
    "# Import modules from other project scripts\n",
    "from data_constants import *"
   ]
  },
  {
   "attachments": {},
   "cell_type": "markdown",
   "metadata": {},
   "source": [
    "### Package Monitoring for Release Purposes\n",
    "\n",
    "There are several metrics that can be useful to track in the process of evaluating the state of GAP packages, from a perspective of redistribution. While some give an indication of whether a package is close to release, others can provide useful insight as to the state of the package. For example, ussues, labels and keywords, can be compared and analysed, while open pull requests might be a good indication that a repository is not likely to be released in the immediate future."
   ]
  },
  {
   "cell_type": "code",
   "execution_count": 2,
   "metadata": {},
   "outputs": [],
   "source": [
    "# Define repositories that are public for gap-packages organisation on GitHub\n",
    "org = g.get_organization(ORG_NAME_PACKAGES)\n",
    "repos = org.get_repos(type=\"public\")"
   ]
  },
  {
   "cell_type": "code",
   "execution_count": null,
   "metadata": {},
   "outputs": [],
   "source": [
    "# Function to get information on bugs and enhancement opportunities for the packages\n",
    "def check_release_status(repo):\n",
    "    open_issues = repo.get_issues(state='open')\n",
    "    \n",
    "    open_issues_count = open_issues.totalCount\n",
    "    bug_count = 0\n",
    "    enhancement_count = 0\n",
    "\n",
    "    for issue in open_issues:\n",
    "        labels = [label.name for label in issue.labels]\n",
    "        if 'bug' in labels:\n",
    "            bug_count += 1\n",
    "        if 'enhancement' in labels:\n",
    "            enhancement_count += 1\n",
    "\n",
    "    if bug_count > 0 or enhancement_count > 0:\n",
    "        return repo.name, open_issues_count, bug_count, enhancement_count\n",
    "    else:\n",
    "        return repo.name, open_issues_count, 0, 0"
   ]
  },
  {
   "cell_type": "code",
   "execution_count": null,
   "metadata": {},
   "outputs": [],
   "source": [
    "# Function to get the total number of Pull Requests (PRs), as well as the numbers for open and closed PRs respectively\n",
    "def pull_request_status(repo):\n",
    "    pull_requests = repo.get_pulls(state='all')\n",
    "    \n",
    "    total_pull_requests = pull_requests.totalCount\n",
    "    open_pull_requests = repo.get_pulls(state='open').totalCount\n",
    "    closed_pull_requests = repo.get_pulls(state='closed').totalCount\n",
    "\n",
    "    return repo.name, total_pull_requests, open_pull_requests, closed_pull_requests"
   ]
  },
  {
   "cell_type": "code",
   "execution_count": null,
   "metadata": {},
   "outputs": [],
   "source": [
    "# Display alternative 1: Printing out information\n",
    "# Generate monitoring information for all repositories managed by the gap-packages organisation on GitHub\n",
    "for repo in repos:\n",
    "        # Call function for total issues information\n",
    "        repo_name, open_issues_count, bug_count, enhancement_count = check_release_status(repo)\n",
    "        if bug_count > 0 or enhancement_count > 0:\n",
    "                print(f\"The repository {repo_name} has open bug and enhancement issues.\")\n",
    "                print(f\"Total open issues: {open_issues_count}\")\n",
    "                print(f\"Open bug issues: {bug_count}\")\n",
    "                print(f\"Open enhancement issues: {enhancement_count}\")\n",
    "        else:\n",
    "                print(f\"The repository {repo_name} has no open bug or enhancement issues.\")\n",
    "                print(f\"Total open issues: {open_issues_count}\")\n",
    "        \n",
    "        # Call function for total PRs information\n",
    "        repo_name, total_pull_requests, open_pull_requests, closed_pull_requests = pull_request_status(repo)\n",
    "        print(f\"Total Pull Requests for {repo_name}: {total_pull_requests}\")\n",
    "        print(f\"Open Pull Requests for {repo_name}: {open_pull_requests}\")\n",
    "        print(f\"Closed Pull Requests for {repo_name}: {closed_pull_requests}\")"
   ]
  },
  {
   "cell_type": "code",
   "execution_count": null,
   "metadata": {},
   "outputs": [],
   "source": [
    "# Display alternative 2: Using a Pandas DataFrame for more user-friendly formatting\n",
    "# Generate monitoring information for all repositories managed by the gap-packages organisation on GitHub\n",
    "repo_info = []\n",
    "\n",
    "for repo in repos:\n",
    "    repo_dict = {}\n",
    "    repo_dict['Name'] = repo.name\n",
    "    \n",
    "    # Get and display total issues\n",
    "    repo_name, open_issues_count, bug_count, enhancement_count = check_release_status(repo)\n",
    "    repo_dict['Open Issues'] = open_issues_count\n",
    "    repo_dict['Bugs'] = bug_count\n",
    "    repo_dict['Enhancements'] = enhancement_count\n",
    "\n",
    "    # Get and display total PRs\n",
    "    repo_name, total_pull_requests, open_pull_requests, closed_pull_requests = pull_request_status(repo)\n",
    "    repo_dict['Total Pull Requests'] = total_pull_requests\n",
    "    repo_dict['Open Pull Requests'] = open_pull_requests\n",
    "    repo_dict['Closed Pull Requests'] = closed_pull_requests\n",
    " \n",
    "    # Add the current repo info to the list of repo info\n",
    "    repo_info.append(repo_dict)\n",
    "\n",
    "df = pd.DataFrame(repo_info)\n",
    "df = df.sort_values(by='Open Issues', ascending=False)\n",
    "\n",
    "pd.set_option('display.max_rows', None)\n",
    "pd.set_option('display.max_columns', None)\n",
    "pd.set_option('display.width', None)\n",
    "pd.set_option('display.max_colwidth', None)\n",
    "\n",
    "print(df)"
   ]
  }
 ],
 "metadata": {
  "kernelspec": {
   "display_name": "Python 3",
   "language": "python",
   "name": "python3"
  },
  "language_info": {
   "codemirror_mode": {
    "name": "ipython",
    "version": 3
   },
   "file_extension": ".py",
   "mimetype": "text/x-python",
   "name": "python",
   "nbconvert_exporter": "python",
   "pygments_lexer": "ipython3",
   "version": "3.11.3"
  },
  "orig_nbformat": 4
 },
 "nbformat": 4,
 "nbformat_minor": 2
}
