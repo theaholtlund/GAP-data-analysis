{
 "cells": [
  {
   "attachments": {},
   "cell_type": "markdown",
   "metadata": {},
   "source": [
    "## Distribution Monitoring Data Retrieval\n",
    "\n",
    "This Jupyter Notebook can be used to extract metrics for monitoring purposes, mainly based on the PackageDistro repository from the gap-system organisation on GitHub. As the distribution of GAP is managed through this repository, pulling and analysing data from its current release workflows can be useful in obtaining an overview for the purpose of redistribution. The PackageDistro repository is automatically accessing information on GAP package distribution, as it contains metadata from all the GAP packages. "
   ]
  },
  {
   "cell_type": "code",
   "execution_count": null,
   "metadata": {},
   "outputs": [],
   "source": [
    "# Import required modules and libraries\n",
    "import os\n",
    "import sys\n",
    "import json\n",
    "import requests\n",
    "from datetime import datetime\n",
    "from github import RateLimitExceededException\n",
    "\n",
    "# Get current working directory and append parent directory for module imports\n",
    "cwd = os.getcwd()\n",
    "parent_dir = os.path.dirname(cwd)\n",
    "sys.path.append(parent_dir)\n",
    "\n",
    "# Import modules from other project scripts\n",
    "from data_constants import *\n"
   ]
  },
  {
   "attachments": {},
   "cell_type": "markdown",
   "metadata": {},
   "source": [
    "### Updates to Package Distribution\n",
    "\n",
    "To check for detailed updates to packages distributed under GAP, the PackageDistro repository will scan for updates in GAP packages hosted GitHub. As such, extracting, analysing and combining this information can provide data what packages could and should be considered in a new release of the system. By comparing current versions to what is in the repository, the user can obtain some predictions as to what the next released GAP version will look like. Running the script will export the data to a 'monitoring_data.json' file in the 'collected_data' folder, displaying the results of the generated data per package."
   ]
  },
  {
   "cell_type": "code",
   "execution_count": null,
   "metadata": {},
   "outputs": [],
   "source": [
    "# Define global variables for the Jupyter Notebook\n",
    "org = g.get_organization(ORG_NAME_SYSTEM)\n",
    "repo = org.get_repo(DISTRO_REPO)\n",
    "labels = [\"automatic pr\", \"new package\", \"update package\"]\n"
   ]
  },
  {
   "cell_type": "markdown",
   "metadata": {},
   "source": [
    "##### Functions to Retrieve Monitoring Metrics"
   ]
  },
  {
   "cell_type": "code",
   "execution_count": null,
   "metadata": {},
   "outputs": [],
   "source": [
    "def get_latest_release() -> tuple:\n",
    "    \"\"\"Get the latest release information for GAP and its associated commit,\n",
    "    based on the PackageDistro repository in the GAP-system organization on GitHub.\n",
    "\n",
    "    Args:\n",
    "        None.\n",
    "\n",
    "    Returns:\n",
    "        tuple: The latest release version of GAP and its associated commit.\n",
    "\n",
    "    Raises:\n",
    "        requests.exceptions.RequestException: If there is an error making the HTTP request.\n",
    "    \"\"\"\n",
    "    repo_url = \"https://api.github.com/repos/gap-system/PackageDistro/releases/latest\"\n",
    "\n",
    "    try:\n",
    "        response = requests.get(repo_url)\n",
    "        response.raise_for_status()\n",
    "        latest_release = response.json()\n",
    "        latest_version = latest_release.get(\"name\")\n",
    "        version_commit = latest_release.get(\"target_commitish\")\n",
    "        return latest_version, version_commit\n",
    "    except requests.exceptions.RequestException as e:\n",
    "        raise requests.exceptions.RequestException(f\"Error retrieving latest release: {str(e)}\")\n",
    "    "
   ]
  },
  {
   "cell_type": "code",
   "execution_count": null,
   "metadata": {},
   "outputs": [],
   "source": [
    "def get_version_from_meta(meta_json_url: str) -> str:\n",
    "    \"\"\"Get the listed version from a meta.json file.\n",
    "\n",
    "    Args:\n",
    "        meta_json_url (str): The URL to the meta.json file.\n",
    "\n",
    "    Returns:\n",
    "        str: The version listed in the meta.json file.\n",
    "    \"\"\"\n",
    "    response = requests.get(meta_json_url)\n",
    "    meta_json = response.json()\n",
    "    version = meta_json.get(\"Version\")\n",
    "    return version\n"
   ]
  },
  {
   "cell_type": "code",
   "execution_count": null,
   "metadata": {},
   "outputs": [],
   "source": [
    "def get_meta(branch: str) -> list:\n",
    "    \"\"\"Get all meta.json files and versions based on the branch.\n",
    "\n",
    "    Args:\n",
    "        branch (str): The branch name to retrieve meta.json files from.\n",
    "\n",
    "    Returns:\n",
    "        list: List of tuples containing package names and their corresponding versions.\n",
    "    \"\"\"\n",
    "    api_url = f\"https://api.github.com/repos/gap-system/PackageDistro/contents/packages?ref={branch}\"\n",
    "    response = requests.get(api_url)\n",
    "    package_folders = response.json()\n",
    "\n",
    "    meta_json_data = []\n",
    "    for folder in package_folders:\n",
    "        if folder.get(\"type\") == \"dir\":\n",
    "            package_name = folder.get(\"name\")\n",
    "            meta_json_url = f\"https://raw.githubusercontent.com/gap-system/PackageDistro/{branch}/packages/{package_name}/meta.json\"\n",
    "            version = get_version_from_meta(meta_json_url)\n",
    "            meta_json_data.append((package_name, version))\n",
    "\n",
    "    return meta_json_data\n"
   ]
  },
  {
   "cell_type": "code",
   "execution_count": null,
   "metadata": {},
   "outputs": [],
   "source": [
    "def get_open_pull_requests(labels: list = []) -> list:\n",
    "    \"\"\"Retrieve open pull requests with specified labels.\n",
    "\n",
    "    Args:\n",
    "        labels (list, optional): Labels to filter pull requests by. Defaults to an empty list.\n",
    "\n",
    "    Returns:\n",
    "        list: Pull requests matching the specified labels.\n",
    "\n",
    "    Raises:\n",
    "        requests.exceptions.RequestException: If there is an error making the HTTP request.\n",
    "    \"\"\"\n",
    "    api_url = \"https://api.github.com/repos/gap-system/PackageDistro/pulls\"\n",
    "\n",
    "    params = {\n",
    "        \"state\": \"open\",\n",
    "        \"labels\": \",\".join(labels)\n",
    "    }\n",
    "\n",
    "    response = requests.get(api_url, params=params)\n",
    "    pull_requests = response.json()\n",
    "    return pull_requests\n"
   ]
  },
  {
   "cell_type": "code",
   "execution_count": null,
   "metadata": {},
   "outputs": [],
   "source": [
    "def export_monitoring_data() -> None:\n",
    "    \"\"\"Export the monitoring data to a JSON file, while instructing the program to sleep for the\n",
    "    duration of the time it takes for the GitHub API calls limit to reset in the event that it runs out.\n",
    "\n",
    "    Args:\n",
    "        None.\n",
    "        \n",
    "    Returns:\n",
    "        None.\n",
    "    \"\"\"\n",
    "    while True:\n",
    "        try:\n",
    "            # Get lastest release for GAP, its commit and meta.json files and versions for the latest release\n",
    "            latest_meta = get_meta(get_latest_release()[1])\n",
    "\n",
    "            # Get meta.json files and versions for the main branch\n",
    "            main_meta = get_meta(\"main\")\n",
    "\n",
    "            # Compare versions and print package names if they are different\n",
    "            # For the packages with different version, the package in the main branch will be the new version in the next release\n",
    "            packages_with_different_versions = []\n",
    "            for latest_package, latest_version in latest_meta:\n",
    "                for main_package, main_version in main_meta:\n",
    "                    if latest_package == main_package and latest_version != main_version:\n",
    "                        packages_with_different_versions.append({\n",
    "                            'package_name': latest_package,\n",
    "                            'latest_version': latest_version,\n",
    "                            'main_branch_version': main_version\n",
    "                        })\n",
    "\n",
    "            # Get all packages that might be in the next release based on open PRs, regardless of labels\n",
    "            all_pull_requests = get_open_pull_requests()\n",
    "            all_package_names = {pr[\"head\"][\"ref\"].split(\"/\")[1] for pr in all_pull_requests}\n",
    "            all_maybe_next = list(all_package_names)\n",
    "\n",
    "            # Find the packages in unmerged PRs, as these may be in the next release but have not yet been merged\n",
    "            # Only retrieve PRs with specified labels and extract the package names, as these labels indicate release relation\n",
    "            labels_pull_requests = get_open_pull_requests(labels)\n",
    "            labels_package_names = {pr[\"head\"][\"ref\"].split(\"/\")[1] for pr in labels_pull_requests}\n",
    "            in_latest_release_and_maybe_next = list(labels_package_names)\n",
    "\n",
    "            data_folder = \"collected_data\"\n",
    "            data = {\n",
    "                'packages_with_different_versions': packages_with_different_versions,\n",
    "                'all_previous_and_maybe_next': all_maybe_next,\n",
    "                'previous_and_maybe_next_labels': in_latest_release_and_maybe_next\n",
    "            }\n",
    "\n",
    "            file_path = os.path.join(data_folder, \"monitoring_data.json\")\n",
    "\n",
    "            with open(file_path, \"w\", encoding=\"utf-8\") as f:\n",
    "                json.dump(data, f, ensure_ascii=False, indent=4)\n",
    "\n",
    "            print(\"Distro data has been exported to the 'monitoring_data' file in the 'collected_data' folder.\")\n",
    "            break\n",
    "\n",
    "        except RateLimitExceededException:\n",
    "            remaining_requests, _ = g.rate_limiting\n",
    "            reset_time = g.rate_limiting_resettime\n",
    "            if remaining_requests < 100:\n",
    "                wait_until_reset(reset_time)\n"
   ]
  },
  {
   "cell_type": "markdown",
   "metadata": {},
   "source": [
    "##### Get and Export Monitoring Metrics"
   ]
  },
  {
   "cell_type": "code",
   "execution_count": null,
   "metadata": {},
   "outputs": [],
   "source": [
    "# Call the function to export the data\n",
    "export_monitoring_data()\n"
   ]
  }
 ],
 "metadata": {
  "kernelspec": {
   "display_name": "Python 3",
   "language": "python",
   "name": "python3"
  },
  "language_info": {
   "codemirror_mode": {
    "name": "ipython",
    "version": 3
   },
   "file_extension": ".py",
   "mimetype": "text/x-python",
   "name": "python",
   "nbconvert_exporter": "python",
   "pygments_lexer": "ipython3",
   "version": "3.11.3"
  },
  "orig_nbformat": 4
 },
 "nbformat": 4,
 "nbformat_minor": 2
}
