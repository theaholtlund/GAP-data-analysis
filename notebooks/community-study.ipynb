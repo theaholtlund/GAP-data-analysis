{
 "cells": [
  {
   "attachments": {},
   "cell_type": "markdown",
   "metadata": {},
   "source": [
    "## GAP Data Analytics, Community Study\n",
    "\n",
    "This Jupyter Notebook allows for studying the community developing, releasing and collaborating on GAP packages on GitHub more closely, in order to gather valuable information on their collaboration trends and patterns, indicating what areas could be further investigated."
   ]
  },
  {
   "cell_type": "code",
   "execution_count": null,
   "metadata": {},
   "outputs": [],
   "source": [
    "# Import required libraries and packages\n",
    "import os\n",
    "import sys\n",
    "import hashlib\n",
    "\n",
    "# Get current working directory and append parent directory for module imports\n",
    "cwd = os.getcwd()\n",
    "parent_dir = os.path.dirname(cwd)\n",
    "sys.path.append(parent_dir)\n",
    "\n",
    "# Import modules from other project scripts\n",
    "from data_constants import *"
   ]
  },
  {
   "attachments": {},
   "cell_type": "markdown",
   "metadata": {},
   "source": [
    "### Studying the community\n",
    "\n",
    "Several variables related to autors and collaborations can provide valuable input on how the community behind GAP functions, and what dependencies might exist. In the interest of preserving the privacy of the authors in the GAP community, and because this notebook aims to provide statistics on trends rather than point to individual autors, the usernames related to GAP packages on GitHub are hashed upon retrieval."
   ]
  },
  {
   "cell_type": "code",
   "execution_count": null,
   "metadata": {},
   "outputs": [],
   "source": [
    "# Define repositories that are public for gap-packages organisation on GitHub\n",
    "org = g.get_organization(ORG_NAME_PACKAGES)\n",
    "repos = org.get_repos(type=\"public\")"
   ]
  },
  {
   "cell_type": "code",
   "execution_count": null,
   "metadata": {},
   "outputs": [],
   "source": [
    "# Function to hash author names upon retrieval\n",
    "def hash_author_name(author_name):\n",
    "    return hashlib.sha256(author_name.encode()).hexdigest()"
   ]
  },
  {
   "cell_type": "code",
   "execution_count": null,
   "metadata": {},
   "outputs": [],
   "source": [
    "# Get information on collaborators that contributed to more than one repository\n",
    "# Set to store the hash values of collaborators, to avoid duplicates and make sure values cannot be changed\n",
    "contributors = set()\n",
    "repository_counts = {}\n",
    "\n",
    "for repo in repos:\n",
    "    repo_contributors = set(contributor.login for contributor in repo.get_contributors())\n",
    "    for username in repo_contributors:\n",
    "        hashed_name = hash_author_name(username)\n",
    "        repository_counts[hashed_name] = repository_counts.get(hashed_name, 0) + 1\n",
    "\n",
    "count = sum(count > 1 for count in repository_counts.values())\n",
    "\n",
    "print(f\"Number of collaborators who contributed to more than one repository: {count}\")"
   ]
  }
 ],
 "metadata": {
  "kernelspec": {
   "display_name": "Python 3",
   "language": "python",
   "name": "python3"
  },
  "language_info": {
   "codemirror_mode": {
    "name": "ipython",
    "version": 3
   },
   "file_extension": ".py",
   "mimetype": "text/x-python",
   "name": "python",
   "nbconvert_exporter": "python",
   "pygments_lexer": "ipython3",
   "version": "3.11.3"
  },
  "orig_nbformat": 4
 },
 "nbformat": 4,
 "nbformat_minor": 2
}
