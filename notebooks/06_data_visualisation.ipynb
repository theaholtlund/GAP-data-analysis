{
 "cells": [
  {
   "cell_type": "markdown",
   "metadata": {},
   "source": [
    "## GAP Data Analytics, Data Visualisatoin\n",
    "\n",
    "This Jupyter Notebook is for visualising core components of the data generated from the previous notebooks, to point out key attributes and relationships in the data. This could be helpful in assisting redistribution managers in better understanding what trends, dependencies and relationships exist, which could be useful for prioritising and decision-making in the redistribution process."
   ]
  },
  {
   "cell_type": "code",
   "execution_count": null,
   "metadata": {},
   "outputs": [],
   "source": [
    "# Import required modules and libraries\n",
    "import os\n",
    "import sys\n",
    "import json\n",
    "import numpy as np\n",
    "import matplotlib.pyplot as plt\n",
    "import networkx as nx\n",
    "from collections import Counter\n",
    "import seaborn as sns\n",
    "\n",
    "# Get current working directory and append parent directory for module imports\n",
    "cwd = os.getcwd()\n",
    "parent_dir = os.path.dirname(cwd)\n",
    "sys.path.append(parent_dir)\n",
    "\n",
    "# Import modules from other project scripts\n",
    "from data_constants import *\n"
   ]
  },
  {
   "cell_type": "markdown",
   "metadata": {},
   "source": [
    "##### Functions to Visualise Extracted Data"
   ]
  },
  {
   "cell_type": "code",
   "execution_count": null,
   "metadata": {},
   "outputs": [],
   "source": [
    "def load_data(file_path: str) -> dict:\n",
    "    \"\"\"Read a JSON file from the given file path and return the data\n",
    "    as a Python dictionary.\n",
    "\n",
    "    Args:\n",
    "        file_path (str): The path to the JSON file to be loaded.\n",
    "\n",
    "    Returns:\n",
    "        dict: The data loaded from the JSON file.\n",
    "    \"\"\"\n",
    "    with open(file_path, \"r\", encoding=\"utf-8\") as f:\n",
    "        data = json.load(f)\n",
    "    return data"
   ]
  },
  {
   "cell_type": "code",
   "execution_count": null,
   "metadata": {},
   "outputs": [],
   "source": [
    "def create_author_labels(data_dict: dict) -> dict:\n",
    "    \"\"\"Takes a dictionary and returns a new dictionary that maps each key to a label like \"user x\", \n",
    "    where x corresponds to a letter in alphabetic order (e.g., \"user a\" for the first key, \n",
    "    \"user b\" for the second key and so on). This is to avoid displaying long keys when \n",
    "    plotting data, as it makes it less readable.\n",
    "\n",
    "    Args:\n",
    "        data_dict (dict): Input dict for which labels need to be created.\n",
    "\n",
    "    Returns:\n",
    "        dict: New dict mapping each key to a label like \"user x\".\n",
    "    \"\"\"\n",
    "    labels = {}\n",
    "    for idx, key in enumerate(data_dict.keys()):\n",
    "        label = f\"User {chr(97 + idx)}\"\n",
    "        labels[key] = label\n",
    "    return labels\n"
   ]
  },
  {
   "cell_type": "code",
   "execution_count": null,
   "metadata": {},
   "outputs": [],
   "source": [
    "def plot_bar_chart(data: dict, title: str, x_label: str, y_label: str) -> None:\n",
    "    \"\"\"Plot a bar chart using the given data.\n",
    "\n",
    "    Args:\n",
    "        data (dict): A dictionary containing the data to plot. The keys represent\n",
    "            the categories on the x-axis, and the values represent the corresponding\n",
    "            values on the y-axis.\n",
    "        title (str): The title of the plot.\n",
    "        x_label (str): The label for the x-axis.\n",
    "        y_label (str): The label for the y-axis.\n",
    "\n",
    "    Returns:\n",
    "        None: The function displays the plot but does not return anything.\n",
    "    \"\"\"\n",
    "    plt.figure(figsize=(10, 6))\n",
    "    plt.bar(data.keys(), data.values(), color='lightblue')\n",
    "    plt.xlabel(x_label)\n",
    "    plt.ylabel(y_label)\n",
    "    plt.title(title)\n",
    "    plt.xticks(rotation=45, ha='right')\n",
    "    plt.tight_layout()\n",
    "    plt.show()\n"
   ]
  },
  {
   "cell_type": "markdown",
   "metadata": {},
   "source": [
    "##### Analyse and Visualise Extracted Data"
   ]
  },
  {
   "cell_type": "code",
   "execution_count": null,
   "metadata": {},
   "outputs": [],
   "source": [
    "# Load data from the JSON file\n",
    "data_folder = \"collected_data\"\n",
    "file_path = os.path.join(data_folder, \"community_data.json\")\n",
    "data = load_data(file_path)\n",
    "\n",
    "# Extract data for visualisation\n",
    "authors = data['authors']\n",
    "submitters = data['submitters']\n",
    "author_submitters = data['author_submitters']\n",
    "author_repo_counts = data['author_repo_counts']\n",
    "interactions = data['interactions']\n",
    "\n",
    "# Global variables that can be regulated\n",
    "top_n_users = 10"
   ]
  },
  {
   "cell_type": "code",
   "execution_count": null,
   "metadata": {},
   "outputs": [],
   "source": [
    "# Plot to show the number of users who are authors, submitters and both authors and submitters\n",
    "count_contributor_labels = {\n",
    "    \"Authors\": len(authors),\n",
    "    \"Submitters\": len(submitters),\n",
    "    \"Author-Submitters\": len(author_submitters)\n",
    "}\n",
    "\n",
    "plot_bar_chart(\n",
    "    data=count_contributor_labels,\n",
    "    title='Number of Authors, Submitters, and Author-Submitters',\n",
    "    x_label='Contributor Type',\n",
    "    y_label='Count'\n",
    ")"
   ]
  },
  {
   "cell_type": "code",
   "execution_count": null,
   "metadata": {},
   "outputs": [],
   "source": [
    "# Get the top authors and the number of their repo contributions\n",
    "sorted_contributors = sorted(author_repo_counts.items(), key=lambda x: x[1], reverse=True)\n",
    "top_contributors = dict(sorted_contributors[:top_n_users])\n",
    "\n",
    "# Get labels for top authors using create_author_labels function\n",
    "labels_dict = create_author_labels({author: 0 for author in top_contributors})\n",
    "top_contributor_labels = [labels_dict[author] for author in top_contributors]\n",
    "data_with_labels = {labels_dict[author]: count for author, count in top_contributors.items()}\n",
    "\n",
    "plot_bar_chart(\n",
    "    data=data_with_labels,\n",
    "    title=f'Top {top_n_users} Authors and Their Repo Contributions',\n",
    "    x_label='Authors',\n",
    "    y_label='Repo Contribution Count'\n",
    ")"
   ]
  },
  {
   "cell_type": "code",
   "execution_count": null,
   "metadata": {},
   "outputs": [],
   "source": [
    "# Plot to show the top authors with the most other users submitting issues to their repos\n",
    "top_authors = sorted(interactions.keys(), key=lambda k: len(interactions[k]), reverse=True)[:top_n_users]\n",
    "interactions_count = [len(interactions[author]) for author in top_authors]\n",
    "\n",
    "# Get labels for top authors using create_author_labels function\n",
    "labels_dict = create_author_labels({author: 0 for author in top_authors})\n",
    "top_author_labels = [labels_dict[author] for author in top_authors]\n",
    "\n",
    "plot_bar_chart(\n",
    "    data={labels_dict[author]: len(interactions[author]) for author in top_authors},\n",
    "    title=f'Top {top_n_users} Authors with Most Issue Submitter Interactions',\n",
    "    x_label='Authors',\n",
    "    y_label='Interactions Count'\n",
    ")"
   ]
  }
 ],
 "metadata": {
  "kernelspec": {
   "display_name": "Python 3",
   "language": "python",
   "name": "python3"
  },
  "language_info": {
   "codemirror_mode": {
    "name": "ipython",
    "version": 3
   },
   "file_extension": ".py",
   "mimetype": "text/x-python",
   "name": "python",
   "nbconvert_exporter": "python",
   "pygments_lexer": "ipython3",
   "version": "3.11.3"
  },
  "orig_nbformat": 4
 },
 "nbformat": 4,
 "nbformat_minor": 2
}
