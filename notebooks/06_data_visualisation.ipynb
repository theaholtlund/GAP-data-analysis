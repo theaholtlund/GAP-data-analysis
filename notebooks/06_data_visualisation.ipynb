{
 "cells": [
  {
   "cell_type": "markdown",
   "metadata": {},
   "source": [
    "## GAP Data Analytics, Data Visualisatoin\n",
    "\n",
    "This Jupyter Notebook is for visualising core components of the data generated from the previous notebooks, to point out key attributes and relationships in the data. This could be helpful in assisting redistribution managers in better understanding what trends, dependencies and relationships exist, which could be useful for prioritising and decision-making in the redistribution process."
   ]
  },
  {
   "cell_type": "code",
   "execution_count": null,
   "metadata": {},
   "outputs": [],
   "source": [
    "# Import required modules and libraries\n",
    "import os\n",
    "import sys\n",
    "import json\n",
    "import numpy as np\n",
    "import matplotlib.pyplot as plt\n",
    "import networkx as nx\n",
    "\n",
    "# Get current working directory and append parent directory for module imports\n",
    "cwd = os.getcwd()\n",
    "parent_dir = os.path.dirname(cwd)\n",
    "sys.path.append(parent_dir)\n",
    "\n",
    "# Import modules from other project scripts\n",
    "from data_constants import *\n"
   ]
  },
  {
   "cell_type": "markdown",
   "metadata": {},
   "source": [
    "##### Functions to Visualise Extracted Data"
   ]
  },
  {
   "cell_type": "code",
   "execution_count": null,
   "metadata": {},
   "outputs": [],
   "source": [
    "def load_data(file_path: str) -> dict:\n",
    "    \"\"\"Read a JSON file from the given file path and return the data\n",
    "    as a Python dictionary.\n",
    "\n",
    "    Args:\n",
    "        file_path (str): The path to the JSON file to be loaded.\n",
    "\n",
    "    Returns:\n",
    "        dict: The data loaded from the JSON file.\n",
    "    \"\"\"\n",
    "    with open(file_path, \"r\", encoding=\"utf-8\") as f:\n",
    "        data = json.load(f)\n",
    "    return data"
   ]
  },
  {
   "cell_type": "code",
   "execution_count": null,
   "metadata": {},
   "outputs": [],
   "source": [
    "def create_author_labels(data_dict: dict) -> dict:\n",
    "    \"\"\"Takes a dictionary and returns a new dictionary that maps each key to a label like \"user x\", \n",
    "    where x corresponds to a letter in alphabetic order (e.g., \"user a\" for the first key, \n",
    "    \"user b\" for the second key and so on). This is to avoid displaying long keys when \n",
    "    plotting data, as it makes it less readable.\n",
    "\n",
    "    Args:\n",
    "        data_dict (dict): Input dict for which labels need to be created.\n",
    "\n",
    "    Returns:\n",
    "        dict: New dict mapping each key to a label like \"user x\".\n",
    "    \"\"\"\n",
    "    labels = {}\n",
    "    for idx, key in enumerate(data_dict.keys()):\n",
    "        label = f\"User {chr(97 + idx)}\"\n",
    "        labels[key] = label\n",
    "    return labels\n"
   ]
  },
  {
   "cell_type": "code",
   "execution_count": null,
   "metadata": {},
   "outputs": [],
   "source": [
    "def plot_bar_chart(data: dict, title: str, x_label: str, y_label: str) -> None:\n",
    "    \"\"\"Plot a bar chart using the given data.\n",
    "\n",
    "    Args:\n",
    "        data (dict): A dictionary containing the data to plot. The keys represent\n",
    "            the categories on the x-axis, and the values represent the corresponding\n",
    "            values on the y-axis.\n",
    "        title (str): The title of the plot.\n",
    "        x_label (str): The label for the x-axis.\n",
    "        y_label (str): The label for the y-axis.\n",
    "\n",
    "    Returns:\n",
    "        None: The function displays the plot but does not return anything.\n",
    "    \"\"\"\n",
    "    plt.figure(figsize=(10, 6))\n",
    "    plt.bar(data.keys(), data.values(), color='lightblue')\n",
    "    plt.xlabel(x_label)\n",
    "    plt.ylabel(y_label)\n",
    "    plt.title(title)\n",
    "    plt.xticks(rotation=45, ha='right')\n",
    "    plt.tight_layout()\n",
    "    plt.show()\n"
   ]
  },
  {
   "cell_type": "code",
   "execution_count": null,
   "metadata": {},
   "outputs": [],
   "source": [
    "def plot_collaborations(community_data: dict, top_n_users: int) -> None:\n",
    "    \"\"\"Plots collaborations between authors and submitters in the GAP community.\n",
    "\n",
    "    Parameters:\n",
    "        community_data (dict): A dictionary containing community data, with authors, submitters and interactions.\n",
    "        top_n_users (int): The number of top submitters to be displayed in the plot.\n",
    "\n",
    "    Returns:\n",
    "        None: The function plots the graph but does not return anything.\n",
    "    \"\"\"\n",
    "    # Add nodes for authors and submitters\n",
    "    G = nx.DiGraph()\n",
    "    G.add_nodes_from(community_data[\"authors\"], node_type=\"author\")\n",
    "    G.add_nodes_from(community_data[\"submitters\"], node_type=\"submitter\")\n",
    "\n",
    "    # Add edges for collaborations between authors and submitters\n",
    "    for author, submitters in community_data[\"interactions\"].items():\n",
    "        for submitter in submitters:\n",
    "            if author in G.nodes and submitter in G.nodes:\n",
    "                G.add_edge(submitter, author)\n",
    "\n",
    "    # Get the top_n submitters based on collaboration frequency\n",
    "    submitter_collaborations = {submitter: sum(1 for authors in community_data[\"interactions\"].values() if submitter in authors) for submitter in G.nodes if G.nodes[submitter][\"node_type\"] == \"submitter\"}\n",
    "    top_n_submitters = sorted(submitter_collaborations, key=submitter_collaborations.get, reverse=True)[:top_n_users]\n",
    "\n",
    "    plt.figure(figsize=(12, 8))\n",
    "    pos = nx.spring_layout(G, seed=42, k=1)\n",
    "\n",
    "    # Draw nodes with different colours for the submitters, while authors are always red\n",
    "    nx.draw_networkx_nodes(G, pos, nodelist=[node for node in G.nodes if G.nodes[node][\"node_type\"] == \"author\"], node_size=200, node_color=\"red\", alpha=0.7, label=\"Authors\")\n",
    "    for i, submitter in enumerate(top_n_submitters):\n",
    "        node_colour = f\"C{i}\"\n",
    "        nx.draw_networkx_nodes(G, pos, nodelist=[submitter], node_size=200, node_color=node_colour, alpha=0.7, label=\"Submitters\")\n",
    "\n",
    "        # Draw coloured lines to show collaborations with each submitter\n",
    "        edges = G.edges()\n",
    "        colour_edges = [(u, v) for u, v in edges if G.nodes[u][\"node_type\"] == \"submitter\" and G.nodes[v][\"node_type\"] == \"author\" and u == submitter]\n",
    "        nx.draw_networkx_edges(G, pos, edgelist=colour_edges, edge_color=node_colour, arrowsize=5, alpha=0.5)\n",
    "\n",
    "    plt.title(\"Collaborations between Authors and Submitters\")\n",
    "    plt.axis(\"off\")\n",
    "\n",
    "    # Add a label for what each colour represents\n",
    "    plt.text(0.8, 0.95, \"Red: Authors\\nColoured Nodes: Submitters\\nColoured Lines: Interactions\", transform=plt.gca().transAxes, fontsize=12, bbox=dict(boxstyle=\"round,pad=0.3\", edgecolor=\"black\", facecolor=\"white\", alpha=0.7))\n",
    "\n",
    "    plt.show()\n"
   ]
  },
  {
   "cell_type": "markdown",
   "metadata": {},
   "source": [
    "##### Analyse and Visualise Extracted Data"
   ]
  },
  {
   "cell_type": "code",
   "execution_count": null,
   "metadata": {},
   "outputs": [],
   "source": [
    "# Global variables that can be regulated\n",
    "top_n_users = 5"
   ]
  },
  {
   "cell_type": "code",
   "execution_count": null,
   "metadata": {},
   "outputs": [],
   "source": [
    "# Load the repo data from the JSON file\n",
    "data_folder = \"collected_data\"\n",
    "repo_file_path = os.path.join(data_folder, \"repo_data.json\")\n",
    "repo_data = load_data(repo_file_path)\n",
    "\n",
    "# Load monitoring data from the JSON file\n",
    "monitoring_file_path = os.path.join(data_folder, \"distro_data.json\")\n",
    "monitoring_data = load_data(monitoring_file_path)\n",
    "\n",
    "# Load testing data from the JSON file\n",
    "testing_file_path = os.path.join(data_folder, \"testing_data.json\")\n",
    "testing_data = load_data(testing_file_path)\n",
    "\n",
    "# Load community data from the JSON file\n",
    "community_file_path = os.path.join(data_folder, \"community_data.json\")\n",
    "community_data = load_data(community_file_path)\n"
   ]
  },
  {
   "cell_type": "code",
   "execution_count": null,
   "metadata": {},
   "outputs": [],
   "source": [
    "# Extract data for visualisation\n",
    "authors = community_data['authors']\n",
    "submitters = community_data['submitters']\n",
    "author_submitters = community_data['author_submitters']\n",
    "author_repo_counts = community_data['author_repo_counts']\n",
    "interactions = community_data['interactions']\n"
   ]
  },
  {
   "cell_type": "code",
   "execution_count": null,
   "metadata": {},
   "outputs": [],
   "source": [
    "# Count the number of packages with CI tests, PackageInfo tests, both test types and no test types\n",
    "ci_tests_count = 0\n",
    "pkg_tests_count = 0\n",
    "both_tests_count = 0\n",
    "no_tests_count = 0\n",
    "\n",
    "for package_info in repo_data:\n",
    "    package = package_info[\"repo\"]\n",
    "    if package in testing_data:\n",
    "        if \"ci_file_version\" in testing_data[package]:\n",
    "            ci_tests_count += 1\n",
    "        if \"pkginfo_version\" in testing_data[package]:\n",
    "            pkg_tests_count += 1\n",
    "        if \"ci_file_version\" in testing_data[package] and \"pkginfo_version\" in testing_data[package]:\n",
    "            both_tests_count += 1\n",
    "    else:\n",
    "        no_tests_count += 1\n",
    "\n",
    "categories = [\"CI Tests\", \"PackageInfo Tests\", \"Both Tests\", \"No Tests\"]\n",
    "counts = [ci_tests_count, pkg_tests_count, both_tests_count, no_tests_count]\n",
    "\n",
    "plot_bar_chart(\n",
    "    data=dict(zip(categories, counts)),\n",
    "    title='Number of GAP Packages with CI Tests and PackageInfo Tests',\n",
    "    x_label='Categories',\n",
    "    y_label='Counts'\n",
    ")\n"
   ]
  },
  {
   "cell_type": "code",
   "execution_count": null,
   "metadata": {},
   "outputs": [],
   "source": [
    "# Plot to show the number of users who are authors, submitters and both authors and submitters\n",
    "count_contributor_labels = {\n",
    "    \"Authors\": len(authors),\n",
    "    \"Submitters\": len(submitters),\n",
    "    \"Author-Submitters\": len(author_submitters)\n",
    "}\n",
    "\n",
    "plot_bar_chart(\n",
    "    data=count_contributor_labels,\n",
    "    title='Number of Authors, Submitters, and Author-Submitters',\n",
    "    x_label='Contributor Type',\n",
    "    y_label='Count'\n",
    ")"
   ]
  },
  {
   "cell_type": "code",
   "execution_count": null,
   "metadata": {},
   "outputs": [],
   "source": [
    "# Get the top authors and the number of their repo contributions\n",
    "sorted_contributors = sorted(author_repo_counts.items(), key=lambda x: x[1], reverse=True)\n",
    "top_contributors = dict(sorted_contributors[:top_n_users])\n",
    "\n",
    "# Get labels for top authors using create_author_labels function\n",
    "labels_dict = create_author_labels({author: 0 for author in top_contributors})\n",
    "top_contributor_labels = [labels_dict[author] for author in top_contributors]\n",
    "data_with_labels = {labels_dict[author]: count for author, count in top_contributors.items()}\n",
    "\n",
    "plot_bar_chart(\n",
    "    data=data_with_labels,\n",
    "    title=f'Top {top_n_users} Authors and Their Repo Contributions',\n",
    "    x_label='Authors',\n",
    "    y_label='Repo Contribution Count'\n",
    ")\n"
   ]
  },
  {
   "cell_type": "code",
   "execution_count": null,
   "metadata": {},
   "outputs": [],
   "source": [
    "# Plot to show the top authors with the most other users submitting issues to their repos\n",
    "top_authors = sorted(interactions.keys(), key=lambda k: len(interactions[k]), reverse=True)[:top_n_users]\n",
    "interactions_count = [len(interactions[author]) for author in top_authors]\n",
    "\n",
    "# Get labels for top authors using create_author_labels function\n",
    "labels_dict = create_author_labels({author: 0 for author in top_authors})\n",
    "top_author_labels = [labels_dict[author] for author in top_authors]\n",
    "\n",
    "plot_bar_chart(\n",
    "    data={labels_dict[author]: len(interactions[author]) for author in top_authors},\n",
    "    title=f'Top {top_n_users} Authors with Most Issue Submitter Interactions',\n",
    "    x_label='Authors',\n",
    "    y_label='Interactions Count'\n",
    ")"
   ]
  },
  {
   "cell_type": "code",
   "execution_count": null,
   "metadata": {},
   "outputs": [],
   "source": [
    "# Creste a NetworkX plot to represent interactions between authors and contributers\n",
    "plot_collaborations(community_data, top_n_users)\n"
   ]
  }
 ],
 "metadata": {
  "kernelspec": {
   "display_name": "Python 3",
   "language": "python",
   "name": "python3"
  },
  "language_info": {
   "codemirror_mode": {
    "name": "ipython",
    "version": 3
   },
   "file_extension": ".py",
   "mimetype": "text/x-python",
   "name": "python",
   "nbconvert_exporter": "python",
   "pygments_lexer": "ipython3",
   "version": "3.11.3"
  },
  "orig_nbformat": 4
 },
 "nbformat": 4,
 "nbformat_minor": 2
}
