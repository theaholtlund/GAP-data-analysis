{
 "cells": [
  {
   "attachments": {},
   "cell_type": "markdown",
   "metadata": {},
   "source": [
    "## GAP Data Analytics, Data Retrieval\n",
    "\n",
    "This Jupyter Notebook can be used to monitor various metrics for the GAP packages available on GitHub, as to ease and automate the process of supervising the packages and their development. The analytical framework is particularly intended to be useful in oversight for the purpose of redistribution.  "
   ]
  },
  {
   "cell_type": "code",
   "execution_count": null,
   "metadata": {},
   "outputs": [],
   "source": [
    "# Import sys module for various system-specific parameters and functions\n",
    "# Exclude lines that are already satisfied using the grep search command\n",
    "import sys\n",
    "!{sys.executable} -m pip install numpy pandas matplotlib seaborn PyGithub | grep -v 'already satisfied'\n",
    "\n",
    "# Import required libraries and packages\n",
    "from github import Github\n",
    "\n",
    "# Import modules from other project scripts\n",
    "import config"
   ]
  },
  {
   "cell_type": "code",
   "execution_count": null,
   "metadata": {},
   "outputs": [],
   "source": [
    "# Get the GitHub access token and create instance of the GitHub class\n",
    "g = config.g"
   ]
  },
  {
   "attachments": {},
   "cell_type": "markdown",
   "metadata": {},
   "source": [
    "### Packages Close to Release\n",
    "\n",
    "There are several metrics that can be used to give an indicateion of whether a given GAP package is close to release. Issues, labels and keywords, when combined and compared, can give a signal of how close a given package is to release."
   ]
  },
  {
   "cell_type": "code",
   "execution_count": null,
   "metadata": {},
   "outputs": [],
   "source": [
    "# Define organisation and repositories of interest\n",
    "org_name = \"gap-packages\"\n",
    "org = g.get_organization(org_name)\n",
    "repos = org.get_repos(type=\"public\")"
   ]
  },
  {
   "cell_type": "code",
   "execution_count": null,
   "metadata": {},
   "outputs": [],
   "source": [
    "# Function to get some indication of whether a GAP package repository is close to release based on issue and issue labels\n",
    "def check_release_status(repo):\n",
    "    open_issues = repo.get_issues(state='open')\n",
    "    \n",
    "    open_issues_count = open_issues.totalCount\n",
    "    bug_count = 0\n",
    "    enhancement_count = 0\n",
    "\n",
    "    for issue in open_issues:\n",
    "        labels = [label.name for label in issue.labels]\n",
    "        if 'bug' in labels:\n",
    "            bug_count += 1\n",
    "        if 'enhancement' in labels:\n",
    "            enhancement_count += 1\n",
    "\n",
    "    if bug_count > 0 or enhancement_count > 0:\n",
    "        return repo.name, open_issues_count, bug_count, enhancement_count\n",
    "    else:\n",
    "        return repo.name, open_issues_count, 0, 0"
   ]
  },
  {
   "cell_type": "code",
   "execution_count": null,
   "metadata": {},
   "outputs": [],
   "source": [
    "# Generate monitoring information for all repositories managed by the gap-packages organisation on GitHub\n",
    "for repo in repos:\n",
    "        repo_name, open_issues_count, bug_count, enhancement_count = check_release_status(repo)\n",
    "        if bug_count > 0 or enhancement_count > 0:\n",
    "                print(f\"The repository {repo_name} is likely not close to release.\")\n",
    "                print(f\"Total open issues: {open_issues_count}\")\n",
    "                print(f\"Open bug issues: {bug_count}\")\n",
    "                print(f\"Open enhancement issues: {enhancement_count}\")\n",
    "        else:\n",
    "                print(f\"The repository {repo_name} could potentially be close to release.\")\n",
    "                print(f\"Total open issues: {open_issues_count}\")"
   ]
  }
 ],
 "metadata": {
  "kernelspec": {
   "display_name": "Python 3",
   "language": "python",
   "name": "python3"
  },
  "language_info": {
   "codemirror_mode": {
    "name": "ipython",
    "version": 3
   },
   "file_extension": ".py",
   "mimetype": "text/x-python",
   "name": "python",
   "nbconvert_exporter": "python",
   "pygments_lexer": "ipython3",
   "version": "3.11.3"
  },
  "orig_nbformat": 4
 },
 "nbformat": 4,
 "nbformat_minor": 2
}
